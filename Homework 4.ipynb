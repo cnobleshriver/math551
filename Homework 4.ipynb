{
 "cells": [
  {
   "cell_type": "markdown",
   "id": "887164c9",
   "metadata": {},
   "source": [
    "## 1. (Computation) LU Factorization\n",
    "\n",
    "We first implement the (strict) LU factorization.  You can start from the Matlab code for Gaussian elimination given on page 75 of the Sauer text, reproduced below.  In the code below, `a` is an n by n square matrix provided as input, `b` is a vector, though we will not be using it for the LU factorization.\n",
    "\n",
    "```\n",
    "for j = 1 : n-1\n",
    "    if abs(a(j,j))<eps; error(’zero pivot encountered’); end\n",
    "    for i = j+1 : n\n",
    "        mult = a(i,j)/a(j,j);\n",
    "        for k = j+1:n\n",
    "            a(i,k) = a(i,k) - mult*a(j,k);\n",
    "        end\n",
    "        b(i) = b(i) - mult*b(j);\n",
    "    end\n",
    "end\n",
    "```\n",
    "\n",
    "1. Create a matrix L, and store the appropriate entries of $l_{i,j}$ to create the unit lower triangular factor.  \n",
    "\n",
    "2. The code above does not zero out the entries below the diagonal.  Where is it safe to do so?  Add this in the loop.\n",
    "\n",
    "3. Test your code on the matrix $A = \\begin{bmatrix} 1 & 2 \\\\ 3 & 4 \\end{bmatrix}.$ Make sure to take the resulting factors $L$ and $U$ and multiply them to show you get the original `a`.  Give a larger, 3 by 3 matrix and test your algorithm."
   ]
  },
  {
   "cell_type": "code",
   "execution_count": 15,
   "id": "3c7757e7",
   "metadata": {},
   "outputs": [],
   "source": [
    "def lu(A):\n",
    "    '''Computes the (strict) LU factorization of the matrix A'''\n",
    "    L = 0\n",
    "    U = 0\n",
    "        \n",
    "    \n",
    "    return L, U\n"
   ]
  },
  {
   "cell_type": "markdown",
   "id": "b34d6ab0",
   "metadata": {},
   "source": [
    "## 2. Operation Counts\n",
    "\n",
    "We will count the floating point operations involved in the (strict) LU factorization algorithm.\n",
    "We measure in terms of floating point operations, for example, the command \n",
    "`a(i,k) = a(i,k) - mult*a(j,k);` in the\n",
    "innermost loop of the pseudocode has two operations, addition and multiplication, which\n",
    "are counted equally.\n",
    "\n",
    "1. (Theory) Compute the time of the inner loop in terms of $n$ and $j$,\n",
    "by expressing it as a summation of the form:\n",
    "$$\\sum_{k = ?}^n 2 = \\dots$$\n",
    "\n",
    "2. (Theory) The outer two loops can be added as summations, so that the computational cost is a triple sum.  Write it out and compute.\n",
    "\n",
    "3. (Computation) You can time your algorithm using \n",
    "```\n",
    "    import timeit\n",
    "    start_all = timeit.default_timer()\n",
    "    # run code here\n",
    "    stop_all = timeit.default_timer()\n",
    "    print('Time: ', stop_all - start_all)  \n",
    "```\n",
    "You can create a random 100 by 100 matrix with the command `A = np.random.randn(100,100)` and test the time for computing `lu(A)`.  Double the matrix size $n$ and see how the computational time grows.  Note: depending on the platform you're using you may need to start with a smaller matrix to run in a reasonable amount of time.  \n",
    "\n",
    "4. (Computation) Use at least four different matrix sizes, differing by a factor of 2 and compute the time scaling of your algorithm, presenting it as a table or a plot."
   ]
  },
  {
   "cell_type": "code",
   "execution_count": 2,
   "id": "1a68830f",
   "metadata": {},
   "outputs": [],
   "source": [
    "if __name__ == \"__main__\":\n",
    "    pass\n",
    "    # Code inside this block will be hidden from the autograder."
   ]
  },
  {
   "cell_type": "markdown",
   "id": "319c96c8",
   "metadata": {},
   "source": [
    "## 3. (Theory) Condition number vs determinant\n",
    "\n",
    "Consider an $n \\times n$ matrix of the form \n",
    "$$\n",
    "A = \\begin{bmatrix}\n",
    "1 & -1 & -1 & \\cdots & -1 \\\\\n",
    "0 &  1 & -1 & \\cdots & -1 \\\\\n",
    "0 &  0 &  1 & \\cdots & -1 \\\\\n",
    "&\\vdots  &&\\ddots & \\vdots \\\\\n",
    "0 & 0 &   0 & \\cdots & 1\n",
    "\\end{bmatrix}\n",
    "$$\n",
    "1. Compute the condition number of $A$ using the infinity norm $\\| \\cdot \\|_\\infty$.  \n",
    "2. Compute the determinant of $A$ and $A^{-1}.$\n",
    "3. Find an input right-hand side where there is low relative backward error, but high relative forward error."
   ]
  },
  {
   "cell_type": "code",
   "execution_count": null,
   "id": "fe5de712",
   "metadata": {},
   "outputs": [],
   "source": []
  }
 ],
 "metadata": {
  "kernelspec": {
   "display_name": "Python 3 (ipykernel)",
   "language": "python",
   "name": "python3"
  },
  "language_info": {
   "codemirror_mode": {
    "name": "ipython",
    "version": 3
   },
   "file_extension": ".py",
   "mimetype": "text/x-python",
   "name": "python",
   "nbconvert_exporter": "python",
   "pygments_lexer": "ipython3",
   "version": "3.9.7"
  }
 },
 "nbformat": 4,
 "nbformat_minor": 5
}
