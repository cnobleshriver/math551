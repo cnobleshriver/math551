{
 "cells": [
  {
   "cell_type": "markdown",
   "id": "5fd140ec",
   "metadata": {},
   "source": [
    "## Question (Newton's Method)\n",
    "\n",
    "We will apply Newton's Method to find the two\n",
    "solutions to the system of equations\n",
    "$$\n",
    "\\begin{split}\n",
    "2u^2 - 4u + v^2 + 3w^2 + 6w +2 &=0 \\\\\n",
    "u^2 + v^2 - 2v + 2w^2 - 5 &= 0 \\\\\n",
    "3u^2 - 12u +v^2 + 3w^2 + 8 &=0\n",
    "\\end{split}\n",
    "$$\n",
    "1. Compute the Jacobian of the system of equations above.\n",
    "\n",
    "2. Implement the system of equations as a function `f(x)` where `x` is a numpy array  whose entries `x[0], x[1], x[2]` correspond to the $u,v,w$ and which returns a numpy array containing the values of each of the three equations (in the order listed above.\n",
    "\n",
    "3. Implement the Jacobian `DF(x)` it should return a numpy array.\n",
    "\n",
    "\n",
    "4. Check your formula for consistency by computing difference quotients of the form $$ \\frac{f(x + h e_j) - f(x - h e_j)}{2h},$$ where $e_j$ denotes the $j$th standard unit vector and choose small $h = 10^{-5}.$\n",
    "\n",
    "\n",
    "5. Create a function\n",
    "`x, niter = newton(f, J, x0, maxIter, tol)` that runs Newton's method for the function $f$ with Jacobian $DF$ starting at $x_0,$ performing at most `maxIter` iterations and stopping if the increment $p = DF^{-1} f(x)$ \n",
    "has norm less than `tol`.  The code should return the root `x` and the number of iteration performed `niter`.\n",
    "\n",
    "6. Use your code to compute the two solutions of the system above.  \n",
    "Report your starting guess, the root found, and the number of iterations.\n",
    "Print the backward error of your solution."
   ]
  },
  {
   "cell_type": "code",
   "execution_count": null,
   "id": "45659eb2",
   "metadata": {},
   "outputs": [],
   "source": []
  }
 ],
 "metadata": {
  "kernelspec": {
   "display_name": "Python 3 (ipykernel)",
   "language": "python",
   "name": "python3"
  },
  "language_info": {
   "codemirror_mode": {
    "name": "ipython",
    "version": 3
   },
   "file_extension": ".py",
   "mimetype": "text/x-python",
   "name": "python",
   "nbconvert_exporter": "python",
   "pygments_lexer": "ipython3",
   "version": "3.9.7"
  }
 },
 "nbformat": 4,
 "nbformat_minor": 5
}
