{
 "cells": [
  {
   "cell_type": "markdown",
   "id": "eccfeb30",
   "metadata": {},
   "source": [
    "## Instructions\n",
    "\n",
    "The problems (or sometimes individual parts) have been labeled Theory or Computational\n",
    "\n",
    "For theory problems, you can either type the answer in latex in the markdown boxes here, or write up your solution on paper, scan it, and include the scan as a separate file uploaded to the gradescope.  Make sure to clearly label your solution and indicate in the markdown if your solution will be attached as a pdf.\n",
    "\n",
    "For computational problems, you should include the code with any outputs in the cells below.  Also make sure to write up your observations and answers to any questions after the code used to answer the questions."
   ]
  },
  {
   "cell_type": "markdown",
   "id": "fc71d483",
   "metadata": {},
   "source": [
    "## Problem 1\n",
    "\n",
    "(All parts Theory)\n",
    "\n",
    "Forward finite differences: we are going to compute the truncation error in the forward difference approximation of the derivative.  Assume $f$ is a twice continuously-differentiable function on teh interval $[x, x+h].$  \n",
    "\n",
    "1. Expand $f(x+h)$ around the point $x$ using Taylor's Theorem with Remainder up to order $k=1$ (so the remainder term should have second derivatives in it. <br>\n",
    "Your expression will begin\n",
    "$f(x+h) = f(x) + \\cdots.$\n",
    "\n",
    "2. Plug in the Taylor expansion above into the finite difference to estimate the error of\n",
    "$$\n",
    "\\left| \\frac{f(x+h) - f(x)}{h} - f'(x) \\right|\n",
    "$$\n",
    "\n",
    "3. If we include the roundoff error term we described in class, we have a total error of the form\n",
    "$$\n",
    "\\left| (\\tilde{f}(x+h) \\ominus \\tilde{f}(x)) \\oslash {h} - f'(x) \\right| \\leq A h + B \\epsilon_{machine} h^{-1}.\n",
    "$$\n",
    "Find the minimum of the right-hand side as a function of $h$ in terms of $A, B,$ and $\\epsilon_{machine}.$\n"
   ]
  },
  {
   "cell_type": "markdown",
   "id": "0de07eb8",
   "metadata": {},
   "source": [
    "1. $f(x+h)=f(x)+f'(x)((x+h)-x)+\\frac{1}{2!}f\"(c)((x+h)-x)^2$ \\\n",
    "$f(x+h)=f(x)+f'(x)h+\\frac{1}{2}f\"(c)h^2$\n",
    "2. $|\\frac{f(x)+f'(x)h+\\frac{1}{2}f\"(c)h^2-f(x)}{h}-f'(x)|$ \\\n",
    "$|\\frac{f'(x)h+\\frac{1}{2}f\"(c)h^2}{h}-f'(x)|$ \\\n",
    "$|f'(x)+\\frac{1}{2}f\"(c)h-f'(x)|$ \\\n",
    "$|\\frac{1}{2}f\"(c)h|$ \n",
    "3. $g(h)=A h + B \\epsilon_{machine} h^{-1}$\\\n",
    "$g'(h)=A - B \\epsilon_{machine} h^{-2}$ \\\n",
    "$g'(h)= 0 = A - B \\epsilon_{machine} h^{-2}$\\\n",
    "$B \\epsilon_{machine} h^{-2} = A $\\\n",
    "$h^{2} = \\frac{B\\epsilon_{machine}}{A}$\\\n",
    "$h = \\sqrt{\\frac{B\\epsilon_{machine}}{A}}$"
   ]
  },
  {
   "cell_type": "markdown",
   "id": "7ff23a7e",
   "metadata": {},
   "source": [
    "## Problem 2\n",
    "\n",
    "Consider the sequence defined by $x_{n+1} = \\sin(x_n)$ where $x_0=1.$  \n",
    "\n",
    "1. (Theory) Show that there is a unique fixed point, but that Sauer's Theorem 1.6 does not apply to this sequence.\n",
    "\n",
    "\n",
    "\n",
    "2. (Theory) Show that the sequence is monotone decreasing (Hint: use $|\\sin(x)|< |x|$).  Show that the sequence is bounded below by zero.  Conclude convergence.\n",
    "\n",
    "\n",
    "3. (Computational) Use a `for` loop to compute 500 iterations starting from $x_0=1.$\n",
    "Plot the sequence values as a function of the iteration number using a log-log plot.  (You may find the `matplotlib.pyplot.loglog` function useful here.)"
   ]
  },
  {
   "cell_type": "markdown",
   "id": "a7146417",
   "metadata": {},
   "source": []
  },
  {
   "cell_type": "code",
   "execution_count": null,
   "id": "b2611f57",
   "metadata": {},
   "outputs": [],
   "source": [
    "import numpy as np\n",
    "import matplotlib.pyplot as plt\n",
    "\n",
    "sequence = np.zeros(500)\n",
    "sequence[0] = 1\n",
    "\n",
    "for i in range(1, 500):\n",
    "    sequence[i] = np.sin(sequence[i - 1])\n",
    "\n",
    "plt.loglog(sequence)\n"
   ]
  },
  {
   "cell_type": "markdown",
   "id": "4d1ecaf7",
   "metadata": {},
   "source": [
    "## Problem 3\n",
    "\n",
    "(All Computational)\n",
    "\n",
    "We will apply Newton's Method to $f(x) = 4x^4 - 6x^2 - 11/4.$  \n",
    "First, define functions `f` and `df`.\n",
    "\n",
    "1. Plot the function.  Use Newton's method, with a \n",
    "starting guess close to the root to find the two real roots to\n",
    "eight digits of accuracy.  \n",
    "\n",
    "\n",
    "2. For a range of starting values `x = np.linspace(0.1, 2, 201)`, apply \n",
    "Newton's method.  Note that you can apply Newton's method to the whole numpy array object using broadcasing  like this:\n",
    "`x = x - f(x) / df(x)`\n",
    "For what initial values does Newton's method converge to the positive or negative roots?  For what initial values does it fail to converge?\n",
    "\n",
    "\n",
    "3. (Bonus) You can define complex numbers in Python like so:\n",
    "`z = complex(2,3)`  Find the two complex roots of $f.$  Create a\n",
    "grid of starting values of the form $z = x + y i,$ where $-2 \\leq x \\leq 2$ and $-2 \\leq y \\leq 2.$  Determine which of the four roots, if any, Newton's method converges to after 100 iterations.  Find regions of convergence for each root."
   ]
  },
  {
   "cell_type": "code",
   "execution_count": null,
   "id": "f645f2ae",
   "metadata": {},
   "outputs": [],
   "source": []
  }
 ],
 "metadata": {
  "kernelspec": {
   "display_name": "Python 3 (ipykernel)",
   "language": "python",
   "name": "python3"
  },
  "language_info": {
   "codemirror_mode": {
    "name": "ipython",
    "version": 3
   },
   "file_extension": ".py",
   "mimetype": "text/x-python",
   "name": "python",
   "nbconvert_exporter": "python",
   "pygments_lexer": "ipython3",
   "version": "3.9.7"
  }
 },
 "nbformat": 4,
 "nbformat_minor": 5
}
