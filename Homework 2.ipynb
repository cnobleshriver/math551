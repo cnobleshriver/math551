{
 "cells": [
  {
   "cell_type": "markdown",
   "id": "eccfeb30",
   "metadata": {},
   "source": [
    "## Instructions\n",
    "\n",
    "The problems (or sometimes individual parts) have been labeled Theory or Computational\n",
    "\n",
    "For theory problems, you can either type the answer in latex in the markdown boxes here, or write up your solution on paper, scan it, and include the scan as a separate file uploaded to the gradescope.  Make sure to clearly label your solution and indicate in the markdown if your solution will be attached as a pdf.\n",
    "\n",
    "For computational problems, you should include the code with any outputs in the cells below.  Also make sure to write up your observations and answers to any questions after the code used to answer the questions."
   ]
  },
  {
   "cell_type": "markdown",
   "id": "fc71d483",
   "metadata": {},
   "source": [
    "## Problem 1\n",
    "\n",
    "(All parts Theory)\n",
    "\n",
    "Forward finite differences: we are going to compute the truncation error in the forward difference approximation of the derivative.  Assume $f$ is a twice continuously-differentiable function on teh interval $[x, x+h].$  \n",
    "\n",
    "1. Expand $f(x+h)$ around the point $x$ using Taylor's Theorem with Remainder up to order $k=1$ (so the remainder term should have second derivatives in it. <br>\n",
    "Your expression will begin\n",
    "$f(x+h) = f(x) + \\cdots.$\n",
    "\n",
    "2. Plug in the Taylor expansion above into the finite difference to estimate the error of\n",
    "$$\n",
    "\\left| \\frac{f(x+h) - f(x)}{h} - f'(x) \\right|\n",
    "$$\n",
    "\n",
    "3. If we include the roundoff error term we described in class, we have a total error of the form\n",
    "$$\n",
    "\\left| (\\tilde{f}(x+h) \\ominus \\tilde{f}(x)) \\oslash {h} - f'(x) \\right| \\leq A h + B \\epsilon_{machine} h^{-1}.\n",
    "$$\n",
    "Find the minimum of the right-hand side as a function of $h$ in terms of $A, B,$ and $\\epsilon_{machine}.$\n"
   ]
  },
  {
   "cell_type": "markdown",
   "id": "0de07eb8",
   "metadata": {},
   "source": [
    "1. $f(x+h)=f(x)+f'(x)((x+h)-x)+\\frac{1}{2!}f\"(c)((x+h)-x)^2$ \\\n",
    "$f(x+h)=f(x)+f'(x)h+\\frac{1}{2}f\"(c)h^2$\n",
    "2. $|\\frac{f(x)+f'(x)h+\\frac{1}{2}f\"(c)h^2-f(x)}{h}-f'(x)|$ \\\n",
    "$|\\frac{f'(x)h+\\frac{1}{2}f\"(c)h^2}{h}-f'(x)|$ \\\n",
    "$|f'(x)+\\frac{1}{2}f\"(c)h-f'(x)|$ \\\n",
    "$|\\frac{1}{2}f\"(c)h|$ \n",
    "3. $g(h)=A h + B \\epsilon_{machine} h^{-1}$\\\n",
    "$g'(h)=A - B \\epsilon_{machine} h^{-2}$ \\\n",
    "$g'(h)= 0 = A - B \\epsilon_{machine} h^{-2}$\\\n",
    "$B \\epsilon_{machine} h^{-2} = A $\\\n",
    "$h^{2} = \\frac{B\\epsilon_{machine}}{A}$\\\n",
    "$h = \\sqrt{\\frac{B\\epsilon_{machine}}{A}}$"
   ]
  },
  {
   "cell_type": "markdown",
   "id": "7ff23a7e",
   "metadata": {},
   "source": [
    "## Problem 2\n",
    "\n",
    "Consider the sequence defined by $x_{n+1} = \\sin(x_n)$ where $x_0=1.$  \n",
    "\n",
    "1. (Theory) Show that there is a unique fixed point, but that Sauer's Theorem 1.6 does not apply to this sequence.\n",
    "\n",
    "\n",
    "\n",
    "2. (Theory) Show that the sequence is monotone decreasing (Hint: use $|\\sin(x)|< |x|$).  Show that the sequence is bounded below by zero.  Conclude convergence.\n",
    "\n",
    "\n",
    "3. (Computational) Use a `for` loop to compute 500 iterations starting from $x_0=1.$\n",
    "Plot the sequence values as a function of the iteration number using a log-log plot.  (You may find the `matplotlib.pyplot.loglog` function useful here.)"
   ]
  },
  {
   "cell_type": "markdown",
   "id": "a7146417",
   "metadata": {},
   "source": [
    "1. $x_{n+1}=g(x_n)$\\\n",
    "$g(x)=\\sin(x)$\\\n",
    "We wish to find a point where $\\sin(x*)=x*$.\\\n",
    "graphing $y=\\sin(x)$ and $y=x$ we see they only intersect at x=0, therefore there is a unique fixed point at (0,0).\\\n",
    "Sauer's theorem does not apply because $g'(x)=\\cos(x)$ and $\\cos(0) = 1$ which does not satisfy the condition $|g'(r)<1|$\n",
    "2. To show that the sequence is monotone decreasing we must show that $x_{n+1} \\leq x_n$ for all $n \\geq 0$, we will prove this with induction.\\\n",
    "Given: $|\\sin(x)|< |x|$, $x_{n+1} = \\sin(x_n)$ where $x_0=1$\\\n",
    "Base Case: $x_0 = 1$, $x_1 = \\sin(x_0) = \\sin(1)$, $\\sin(1) \\leq 1$ thus $x_1 \\leq x_0$\\\n",
    "Inductive Hypothesis: $x_{n+1} \\leq x_n$ for all $n \\geq 0$\\\n",
    "Inductive Step: $x_{n+2} \\leq x_{n+1}$ for all $n \\geq 0$\\\n",
    "from $|\\sin(x)| < |x|$ (given) we have $|\\sin(x_{n+1})| < |x_{n+1}|$ which simplifies to $\\sin(x_{n+1}) \\leq x_{n+1}$\\\n",
    "by the definition of our sequence we have $x_{n+2} = \\sin(x_{n+1})$\\\n",
    "therefore $\\sin(x_{n+1}) = x_{n+2} \\leq x_{n+1}$\\\n",
    "By induction $x_{n+1} \\leq x_n$ for all $n \\geq 0$\n",
    "\n",
    "\n"
   ]
  },
  {
   "cell_type": "code",
   "execution_count": 1,
   "id": "b2611f57",
   "metadata": {},
   "outputs": [
    {
     "data": {
      "text/plain": [
       "[<matplotlib.lines.Line2D at 0x106d5c850>]"
      ]
     },
     "execution_count": 1,
     "metadata": {},
     "output_type": "execute_result"
    },
    {
     "data": {
      "image/png": "[encoded data removed]",
      "text/plain": [
       "<Figure size 640x480 with 1 Axes>"
      ]
     },
     "metadata": {},
     "output_type": "display_data"
    }
   ],
   "source": [
    "import numpy as np\n",
    "import matplotlib.pyplot as plt\n",
    "\n",
    "sequence = np.zeros(500)\n",
    "sequence[0] = 1\n",
    "\n",
    "for i in range(1, 500):\n",
    "    sequence[i] = np.sin(sequence[i - 1])\n",
    "\n",
    "plt.loglog(sequence)\n"
   ]
  },
  {
   "cell_type": "markdown",
   "id": "4d1ecaf7",
   "metadata": {},
   "source": [
    "## Problem 3\n",
    "\n",
    "(All Computational)\n",
    "\n",
    "We will apply Newton's Method to $f(x) = 4x^4 - 6x^2 - 11/4.$  \n",
    "First, define functions `f` and `df`.\n",
    "\n",
    "1. Plot the function.  Use Newton's method, with a \n",
    "starting guess close to the root to find the two real roots to\n",
    "eight digits of accuracy.  \n",
    "\n",
    "\n",
    "2. For a range of starting values `x = np.linspace(0.1, 2, 201)`, apply \n",
    "Newton's method.  Note that you can apply Newton's method to the whole numpy array object using broadcasing  like this:\n",
    "`x = x - f(x) / df(x)`\n",
    "For what initial values does Newton's method converge to the positive or negative roots?  For what initial values does it fail to converge?\n",
    "\n",
    "\n",
    "3. (Bonus) You can define complex numbers in Python like so:\n",
    "`z = complex(2,3)`  Find the two complex roots of $f.$  Create a\n",
    "grid of starting values of the form $z = x + y i,$ where $-2 \\leq x \\leq 2$ and $-2 \\leq y \\leq 2.$  Determine which of the four roots, if any, Newton's method converges to after 100 iterations.  Find regions of convergence for each root."
   ]
  },
  {
   "cell_type": "markdown",
   "id": "f645f2ae",
   "metadata": {},
   "source": [
    "$f(x) = 4x^4 - 6x^2 - 11/4$\\\n",
    "$f'(x) = 16x^3 - 12x$"
   ]
  },
  {
   "cell_type": "code",
   "execution_count": 30,
   "id": "e8a29e5e",
   "metadata": {},
   "outputs": [
    {
     "name": "stdout",
     "output_type": "stream",
     "text": [
      "Roots of the function are\n",
      "-1.3667603991755475 1.3667603991755475\n",
      "These values converge to the roots\n",
      "[0.1, 0.1095, 0.11900000000000001, 0.1285, 0.138, 0.14750000000000002, 0.157, 0.1665, 0.176, 0.1855, 0.195, 0.20450000000000002, 0.214, 0.2235, 0.233, 0.2425, 0.252, 0.2615, 0.271, 0.28049999999999997, 0.29000000000000004, 0.2995, 0.309, 0.3185, 0.32799999999999996, 0.3375, 0.347, 0.632, 0.6415, 0.6509999999999999, 0.6605, 0.6699999999999999, 0.6795, 0.689, 0.6985, 0.708, 0.7174999999999999, 0.727, 0.7364999999999999, 0.746, 0.7555, 0.765, 0.7745, 0.7839999999999999, 0.7935, 0.8029999999999999, 0.8125, 0.822, 0.8314999999999999, 0.841, 0.8504999999999999, 0.86, 0.8694999999999999, 0.879, 0.8885, 0.8979999999999999, 0.9075, 0.9169999999999999, 0.9265, 0.9359999999999999, 0.9455, 0.955, 0.9644999999999999, 0.974, 0.9834999999999999, 0.993, 1.0025, 1.012, 1.0215, 1.031, 1.0405, 1.05, 1.0595, 1.069, 1.0785, 1.088, 1.0975, 1.107, 1.1165, 1.1260000000000001, 1.1355, 1.145, 1.1545, 1.1640000000000001, 1.1735, 1.183, 1.1925000000000001, 1.202, 1.2115, 1.221, 1.2305000000000001, 1.24, 1.2495, 1.2590000000000001, 1.2685, 1.278, 1.2875, 1.2970000000000002, 1.3065, 1.316, 1.3255000000000001, 1.335, 1.3445, 1.354, 1.3635000000000002, 1.373, 1.3825, 1.3920000000000001, 1.4015, 1.411, 1.4205, 1.4300000000000002, 1.4395, 1.449, 1.4585000000000001, 1.468, 1.4775, 1.487, 1.4965000000000002, 1.506, 1.5155, 1.5250000000000001, 1.5345, 1.544, 1.5535, 1.563, 1.5725, 1.582, 1.5915000000000001, 1.601, 1.6105, 1.62, 1.6295, 1.639, 1.6485, 1.6580000000000001, 1.6675, 1.677, 1.6865, 1.696, 1.7055, 1.715, 1.7245000000000001, 1.734, 1.7435, 1.7530000000000001, 1.7625, 1.772, 1.7815, 1.7910000000000001, 1.8005, 1.81, 1.8195000000000001, 1.829, 1.8385, 1.848, 1.8575000000000002, 1.867, 1.8765, 1.8860000000000001, 1.8955, 1.905, 1.9145, 1.924, 1.9335, 1.943, 1.9525000000000001, 1.962, 1.9715, 1.981, 1.9905, 2.0]\n",
      "These values fail to converge\n",
      "[0.35650000000000004, 0.366, 0.37549999999999994, 0.385, 0.39449999999999996, 0.404, 0.4135, 0.42300000000000004, 0.4325, 0.44199999999999995, 0.4515, 0.46099999999999997, 0.47050000000000003, 0.48, 0.48950000000000005, 0.499, 0.5085, 0.518, 0.5275, 0.537, 0.5465, 0.5559999999999999, 0.5655, 0.575, 0.5845, 0.594, 0.6034999999999999, 0.613, 0.6224999999999999]\n"
     ]
    },
    {
     "data": {
      "image/png": "[encoded data removed]",
      "text/plain": [
       "<Figure size 640x480 with 1 Axes>"
      ]
     },
     "metadata": {},
     "output_type": "display_data"
    }
   ],
   "source": [
    "import numpy as np\n",
    "import matplotlib.pyplot as plt\n",
    "\n",
    "def f(x):\n",
    "    return 4*x**4 - 6*x**2 - 11/4\n",
    "\n",
    "def df(x):\n",
    "    return 16*x**3 - 12*x\n",
    "\n",
    "def newtons_method(f, df, x0, TOL=1e-8, N=1000):\n",
    "    x = x = np.array(x0, dtype=float)\n",
    "    for i in range(N):\n",
    "        x = x - f(x) / df(x)\n",
    "        if np.all(np.abs(f(x)) < TOL):\n",
    "            return x\n",
    "    return x\n",
    "\n",
    "# Find the roots of f\n",
    "x = np.linspace(0.1, 2, 201)\n",
    "roots = newtons_method(f, df, x)\n",
    "first_root = newtons_method(f, df, -1)\n",
    "second_root = newtons_method(f, df, 1)\n",
    "print(\"Roots of the function are\")\n",
    "print(first_root, second_root)\n",
    "\n",
    "# Find initial values that converge to positive or negative roots as well as those that fail to converge\n",
    "success_roots = []\n",
    "failed_roots = []\n",
    "for i in range(len(roots)):\n",
    "    if roots[i] < -1.36 or roots[i] > 1.36:\n",
    "        success_roots.append(float(x[i]))\n",
    "    else:\n",
    "        failed_roots.append(float(x[i]))\n",
    "\n",
    "print(\"These initial values converge to the roots\")\n",
    "print(success_roots)\n",
    "print(\"These initial values fail to converge\")\n",
    "print(failed_roots)\n",
    "\n",
    "# Plot the function\n",
    "x = np.linspace(-2, 2, 100)\n",
    "y = f(x)\n",
    "\n",
    "plt.plot(x, y)\n",
    "plt.show()"
   ]
  }
 ],
 "metadata": {
  "kernelspec": {
   "display_name": "Python 3",
   "language": "python",
   "name": "python3"
  },
  "language_info": {
   "codemirror_mode": {
    "name": "ipython",
    "version": 3
   },
   "file_extension": ".py",
   "mimetype": "text/x-python",
   "name": "python",
   "nbconvert_exporter": "python",
   "pygments_lexer": "ipython3",
   "version": "3.12.7"
  }
 },
 "nbformat": 4,
 "nbformat_minor": 5
}
