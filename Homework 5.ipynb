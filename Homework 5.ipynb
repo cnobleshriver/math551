{
 "cells": [
  {
   "cell_type": "markdown",
   "id": "5fd140ec",
   "metadata": {},
   "source": [
    "## 1. (Computation) Model Problem and Jacobi Method\n",
    "\n",
    "One source of very large linear systems is the discretization of boundary value problems, either ordinary differential\n",
    "equations (ODEs) or partial differential equations (PDEs).  We consider the following model problem.  Given a function $f(x)$  find the unknown function $u(x)$ that satisfies the boundary value problem: \n",
    "$$\n",
    "- u''(x) = f(x) \\text{ for } 0 < x < 1\n",
    "$$\n",
    "with boundary conditions $u(0) = u(1) = 0.$  We create a vector $u,$ where $u_j$ approximates the value of $u$ at the \n",
    "point $x_j = j  h$ for $j = 0, \\dots, n+1$ where $h = \\frac{1}{n+1}.$  \n",
    "We create a linear system by using the center\n",
    "difference approximation for $-u''$ giving the system of equations\n",
    "$$\n",
    "\\frac{-u_{j+1} + 2 u_j - u_{j-1}}{h^2} = f(x_j)  \\text{ for } \n",
    "j = 1, \\dots, n\n",
    "$$\n",
    "To satisfy the boundary conditions, we have $u_0 = u_{n+1} = 0,$\n",
    "and we only store the $n$ values $u_1, \\dots u_n$ as variables.\n",
    "\n",
    "1. Create the system $A u = f$ with\n",
    "```\n",
    "A = np.zeros((n, n))\n",
    "np.fill_diagonal(A, 2) \n",
    "np.fill_diagonal(A[1:], -1)     # Subdiagonal\n",
    "np.fill_diagonal(A[:, 1:], -1)  # Superdiagonal\n",
    "A *= (n+1)**2 \n",
    "x = np.linspace(0,1,n+2)\n",
    "x = x[1:-1]  # Exclude endpoints\n",
    "u_exact = np.sin(2*np.pi*x) + np.sin(7*np.pi*x)\n",
    "f = A@u_exact\n",
    "```\n",
    "Plot the exact solution given by $u_{exact}$ with $n=100.$\n",
    "\n",
    "2. Implement the Jacobi iteration, start from the initial guess `u = np.zeros(n)`\n",
    "and compute 50 iterations, again with $n= 100.$  Plot the error $u_{exact} - u$ after those 50 iterations.  On the same plot, also plot the error after 100 and 150 iterations.  What qualitative behavior do you notice for the error compared to the initial error $u_{exact}$?  Think about the contributions from the two sinusoidal terms.\n",
    "\n",
    "3. Inside your Jacobi iteration loop, store the $\\ell_2$ norm of the error and plot this norm as a function of\n",
    "the iteration number $i$ in a `semilogy` plot for 300 iterations."
   ]
  },
  {
   "cell_type": "code",
   "execution_count": null,
   "id": "61749636",
   "metadata": {
    "scrolled": true
   },
   "outputs": [],
   "source": []
  },
  {
   "cell_type": "markdown",
   "id": "205bef5c",
   "metadata": {},
   "source": [
    "## 2. (Theory) Convergence of the Jacobi Method\n",
    "\n",
    "The Jacobi Method finds an approximate solution to \n",
    "$A x = b$ by splitting $A = D + L + U,$ and creating the iteration\n",
    "$$x^{(k+1)} = D^{-1} ( b - (L+U) x^{(k)}) \\text{ for } k = 0,1,2,\\dots$$\n",
    "1. Let $x$ denote the exact solution, and $e_k = x - x_k$ be the \n",
    "error vector.  Subtract $x$ from both sides of the iteration to get an expression of the form $e_{k+1} = R_J e_k,$ where $R_J$ is a matrix.\n",
    "\n",
    "2. We say that $A$ is strictly diagonally dominant if for \n",
    "each row $i$\n",
    "$$ |a_{ii}| > \\sum_{\\substack{j=1 \\\\ j \\neq i}}^n |a_{ij}|.$$  \n",
    "If $A$ is strictly diagonally\n",
    "dominant, show that $\\|R_J\\|_\\infty < 1.$\n",
    "\n",
    "3. Use the previous two parts to show that the Jacobi method converges if $A$ is strictly diagonally dominant.  (Hint: use the \n",
    "inequality $\\| Bx \\|_\\infty \\leq \\| B \\|_\\infty \\| x \\|_\\infty$ for any matrix $ B$)"
   ]
  },
  {
   "cell_type": "code",
   "execution_count": null,
   "id": "518e5364",
   "metadata": {},
   "outputs": [],
   "source": []
  }
 ],
 "metadata": {
  "kernelspec": {
   "display_name": "Python 3 (ipykernel)",
   "language": "python",
   "name": "python3"
  },
  "language_info": {
   "codemirror_mode": {
    "name": "ipython",
    "version": 3
   },
   "file_extension": ".py",
   "mimetype": "text/x-python",
   "name": "python",
   "nbconvert_exporter": "python",
   "pygments_lexer": "ipython3",
   "version": "3.9.7"
  }
 },
 "nbformat": 4,
 "nbformat_minor": 5
}
