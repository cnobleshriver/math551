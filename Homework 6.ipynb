{
 "cells": [
  {
   "cell_type": "markdown",
   "id": "5fd140ec",
   "metadata": {},
   "source": [
    "## 1. (Computation) Sparse Matrices and Efficiency\n",
    "\n",
    "When we discretize boundary value problems as we did in the previous homework, we often get sparse matrices.  For a the center difference quotient in 1D, the only non-zero entries are on the diagonal, the subdiagonal, and the superdiagonal which is $3n-2$ non-zero entries in an $n \\times n$ matrix.  \n",
    "\n",
    "Create the system $A u = f$ with\n",
    "```\n",
    "import numpy as np\n",
    "import scipy.sparse as sparse\n",
    "e = np.ones(n)\n",
    "Asp = (n + 1)**2 * sparse.diags([-e, 2*e, -e], offsets=[-1, 0, 1], shape=(n, n),format='csr')\n",
    "Afull = Asp.toarray()\n",
    "x = np.linspace(0,1,n+2)\n",
    "x = x[1:-1]  # Exclude endpoints\n",
    "u_exact = np.sin(2*np.pi*x) + np.sin(7*np.pi*x)\n",
    "f = Asp@u_exact\n",
    "```\n",
    "`Asp` stores the matrix in sparse format, while `Afull` stores the matrix as a standard numpy array.  \n",
    "\n",
    "We will compare the solve time of the system using `Asp` and a sparse solver (`spsolve` from `scipy.sparse.linalg`) with the standard solver for the full matrix using ` np.linalg.solve`.  Time the code for $n = 2000, 4000, 8000$ using both methods and make a table with your findings.\n",
    "\n",
    "\n",
    " | n    | Sparse  | Full   |\n",
    " |----  |---------|--------|\n",
    " | 2000 |  0.0000 | 0.0000 |\n",
    " | 4000 |         |        |\n",
    " |      |         |        |\n",
    "\n",
    "\n",
    "What do you observe?"
   ]
  },
  {
   "cell_type": "code",
   "execution_count": 13,
   "id": "45659eb2",
   "metadata": {},
   "outputs": [
    {
     "name": "stdout",
     "output_type": "stream",
     "text": [
      "n = 2000\n",
      "Sparse time: 0.000000 s\n",
      "Full time: 0.103380 s\n",
      "\n",
      "n = 4000\n",
      "Sparse time: 0.001000 s\n",
      "Full time: 0.743629 s\n",
      "\n",
      "n = 8000\n",
      "Sparse time: 0.001004 s\n",
      "Full time: 5.424173 s\n",
      "\n"
     ]
    }
   ],
   "source": [
    "import numpy as np\n",
    "import time\n",
    "import scipy.sparse as sparse\n",
    "from scipy.sparse.linalg import spsolve\n",
    "\n",
    "\n",
    "def time_solvers(n):\n",
    "    e = np.ones(n)\n",
    "    Asp = (n + 1)**2 * sparse.diags([-e, 2*e, -e], offsets=[-1, 0, 1], shape=(n, n),format='csr')\n",
    "    Afull = Asp.toarray()\n",
    "    x = np.linspace(0,1,n+2)\n",
    "    x = x[1:-1]  # Exclude endpoints\n",
    "    u_exact = np.sin(2*np.pi*x) + np.sin(7*np.pi*x)\n",
    "    f = Asp@u_exact\n",
    "    \n",
    "    # sparse solver\n",
    "    start_time = time.time()\n",
    "    u_sparse = spsolve(Asp, f)\n",
    "    sparse_time = time.time() - start_time\n",
    "\n",
    "    # full solver\n",
    "    start_time = time.time()\n",
    "    u_full = np.linalg.solve(Afull, f)\n",
    "    full_time = time.time() - start_time\n",
    "\n",
    "    return sparse_time, full_time\n",
    "\n",
    "n = [2000, 4000, 8000]\n",
    "times = [time_solvers(i) for i in n]\n",
    "for i in range(len(n)):\n",
    "    print(f\"n = {n[i]}\")\n",
    "    print(f\"Sparse time: {times[i][0]:.6f} s\")\n",
    "    print(f\"Full time: {times[i][1]:.6f} s\")\n",
    "    print()\n",
    "\n",
    "# What do you observe?\n",
    "# The sparse solver is faster than the full solver for all n values. Also, the difference in time between the sparse and full solver increases as n increases.\n",
    "\n"
   ]
  },
  {
   "cell_type": "markdown",
   "id": "35397120",
   "metadata": {},
   "source": [
    "## 2. (Theory) Derivation of Conjugate Gradient\n",
    "\n",
    "For the conjugate gradient algorithm, we will show the \n",
    "derivation of $\\alpha_k$ and $\\beta_k.$\n",
    "1. Using the objective function $\\phi(x) = \\frac{1}{2} x^T A x - b^T x,$ derive the expression for $\\alpha_k$ as a minimizer of \n",
    "$\\phi(x_k + \\alpha d_k).$  Derive the expression $\\beta_k$ so that $d_{k+1} = r_{k+1} + \\beta_k d_k$ satisfies $d_{k+1}^T A d_k = 0.$\n",
    "2. Using Theorem 2.16 in the text, show that the expressions of $\\alpha_k$ and $\\beta_k$ in the previous part are equivalent to the expressions given in the algorithm listing on page 122.\n"
   ]
  },
  {
   "cell_type": "markdown",
   "id": "bb2dccdc",
   "metadata": {},
   "source": [
    "## 3. (Computation) Convergence of Conjugate Gradient\n",
    "\n",
    "1. Implement the conjugate gradient algorithm, making a function\n",
    "`cg( A, b, x0, kmax, TOL=1e-8)` that runs at most `kmax` iterations of the conjugate gradient method (see listing on page 122 of the text).\n",
    "\n",
    "\n",
    "2. Run 500 iterations of conjugate gradient for the following\n",
    "2D boundary value problem: \n",
    "```\n",
    "import numpy as np\n",
    "import scipy.sparse as sparse\n",
    "n = 100\n",
    "e = np.ones(n**2)\n",
    "Asp = (n + 1)**2 * sparse.diags([-e, -e, 4*e, -e, -e], offsets=[-n, -1, 0, 1, n], shape=(n**2, n**2))\n",
    "x = np.linspace(0,1,n+2)\n",
    "x = x[1:-1]  # Exclude endpoints\n",
    "xx, yy = np.meshgrid(x, x)\n",
    "u_exact = np.sin(2 * np.pi * xx) * np.sin(2 * np.pi * yy) + xx * (1 - xx) * np.sin(4 * np.pi * yy)\n",
    "u_exact = u_exact.ravel()  # Reshape the array to allow matrix-vector multiplication\n",
    "```\n",
    "Inside your `cg` function, compute the 2-norm of the error (you should modify the function to take in the exact solution to compute this).  Plot this norm as a function of the iteration number $i$ in a `semilogy` plot for the 500 iterations.\n"
   ]
  },
  {
   "cell_type": "code",
   "execution_count": 2,
   "id": "5c7fe3c3",
   "metadata": {},
   "outputs": [],
   "source": [
    "def cg( A, b, x0, kmax, TOL=1e-8):\n",
    "    '''Runs k iterations of conjugate gradient algorithm starting from x0 and returns xk'''\n",
    "    pass"
   ]
  },
  {
   "cell_type": "code",
   "execution_count": null,
   "id": "97e7ae3d",
   "metadata": {},
   "outputs": [],
   "source": []
  }
 ],
 "metadata": {
  "kernelspec": {
   "display_name": "Python 3",
   "language": "python",
   "name": "python3"
  },
  "language_info": {
   "codemirror_mode": {
    "name": "ipython",
    "version": 3
   },
   "file_extension": ".py",
   "mimetype": "text/x-python",
   "name": "python",
   "nbconvert_exporter": "python",
   "pygments_lexer": "ipython3",
   "version": "3.12.7"
  }
 },
 "nbformat": 4,
 "nbformat_minor": 5
}
