{
 "cells": [
  {
   "cell_type": "markdown",
   "id": "250afcd1",
   "metadata": {},
   "source": [
    "## DOE Science Reports\n",
    "\n",
    "Go to the Advanced Scientific Computing Research Archives (you can see archives https://ascr-discovery.org/archives/ or by categories https://ascr-discovery.org/categories/ ).  Choose topics of interest to your group and choose **two articles** to read and summarize with your group.  For each of your articles produce a short summary (two to three paragraphs), making the connection to scientific computing, both as a field of study and as a career.  You can discuss the career of a scientist profiled or the computing methods applied to the problem.\n",
    "\n",
    "Include the writeup in the markdown cell below."
   ]
  },
  {
   "cell_type": "markdown",
   "id": "d5168638",
   "metadata": {},
   "source": []
  },
  {
   "cell_type": "markdown",
   "id": "e98eedf5",
   "metadata": {},
   "source": [
    "## Stability of Logistic Map Fixed-Point Iteration\n",
    "\n",
    "The logistic map $x_{n+1} = r x_n (1-x_n)$ for parameter values $0 \\leq r \\leq 4,$ is a well-known example of a simple dynamical system that can exhibit chaotic behavior for some parameter values. \n",
    "\n",
    "1. (Theory) Find the positive fixed point for the system.  Use our theorem to predict for what values of $r$ is the fixed point stable.  \n",
    "\n",
    "2. (Theory) The system undergoes period doubling, where there is a two cycle.  If we denote the right-hand side by $g(x),$ then a two cycle would be a fixed point of $g(g(x)).$  Solve for this two cycle.  (Hint: you will have a degree four polynomial, but you can factor out two known roots, $x=0$ and the fixed point you found in the previous part.)\n",
    "\n",
    "3. (Theory) Find the values of $r$ where the two cycles are locally stable."
   ]
  },
  {
   "cell_type": "markdown",
   "id": "64afbf68",
   "metadata": {},
   "source": [
    "### 1.\n",
    "$x^*=rx^*(1-x^*)$\\\n",
    "$x^*=rx^* - rx^{*2}$\\\n",
    "$rx^{*2} - rx^* + x^* = 0$\\\n",
    "$x^*(rx^* - r + 1) = 0$\\\n",
    "$x^* = 0$\\\n",
    "$rx^* - r + 1 = 0$\\\n",
    "$rx^* = r - 1$\\\n",
    "$\\boxed{x^* = \\frac{r - 1}{r}}$\\\n",
    "$g(x) = rx(1-x)$\\\n",
    "$g'(x) = r(1-2x)$\\\n",
    "$g'(x) = r-2rx$\\\n",
    "If $|g'(r)|= S < 1$ then it is stable\\\n",
    "$|g'(\\frac{r - 1}{r})| = |r - 2r * \\frac{r - 1}{r}|$\\\n",
    "$ = |r-2(r-1)|$\\\n",
    "$ = |r-2r+2|$\\\n",
    "$ = |2-r|$\\\n",
    "Now let's test the values $0 \\leq r \\leq 4$, our stable values will satisfy $|2-r| < 1$.\\\n",
    "$|2-r| < 1$\\\n",
    "$-1 < 2 - r< 1$\\\n",
    "$-3 < -r < -1$\\\n",
    "$\\boxed{1 < r < 3}$\n"
   ]
  },
  {
   "cell_type": "markdown",
   "id": "4288601b",
   "metadata": {},
   "source": [
    "### 2.\n",
    "$g(g(x)) = r(rx(1-x))(1-rx(1-x)) = x$\\\n",
    "$r^2x(1-x)(1-rx+rx^2) = x$ \\\n",
    "$r^2(1-x)(1-rx+rx^2) = 1$\n",
    "$r^2(1-rx+rx^2-x+rx^2-rx^3) = 1$\\\n",
    "$-r^3x^3+2r^3x^2-(r^3+r^2)+(r^2-1)=0$\\\n",
    "$r^3x^3-2r^3x^2+(r^3+r^2)-(r^2-1)=0$\\\n",
    "Sythetic division w/ $\\frac{r-1}{r}$ yields\\\n",
    "$(x - \\frac{r-1}{r})(r^3x^2-(r^3+r^2)x+(r^2+r)) = 0$\n"
   ]
  },
  {
   "cell_type": "markdown",
   "id": "674e96c3",
   "metadata": {},
   "source": [
    "## Sensitivity Of Wilkinson Polynomial\n",
    "\n",
    "1. (Theory) For the Wilkinson polynomial compute the sensitivity of the root $x=18$ to changes in the coefficient of the $x^{19}$ term of relative magnitude $2^{-52}.$  That is, we consider perturbations of the form $\\epsilon x^{19}.$\n",
    "\n",
    "2. (Theory) We also consider the Wilkinson polynomial in factored form: $w(x) = (x-20) (x-19) \\cdots (x-1).$ Consider perturbations of the $19$ that appears there, and compute the sensitivity of the root $x=18$ to changes of relative magnitude $2^{-52}.$\n",
    "\n",
    "3. (Computation) Below is `wilk` which implements the Wilkinson polynomial.  Use the bisection method to locate the root $x=18$ with the starting interval $[17.8, 18.1],$ with a tolerance of $10^{-8}.$  What is the resulting forward and backward error?\n",
    "\n",
    "4. (Computation) Implement `wilk_factored` which computes the Wilkinson polynomial in factored form: it should compute the product $(x-20) (x-19) \\cdots (x-1).$  Use a `for` loop to multiply the factors.  Use the bisection method to locate the root $x=18$ with the starting interval $[17.8, 18.1],$ with a tolerance of $10^{-8}.$  What is the resulting forward and backward error?"
   ]
  },
  {
   "cell_type": "code",
   "execution_count": 1,
   "id": "d8b2915f",
   "metadata": {},
   "outputs": [],
   "source": [
    "def wilk(x):\n",
    "    x=float(x)\n",
    "    return ( x**20 - 210*x**19 + 20615*x**18 - 1256850*x**17 +\n",
    "        53327946*x**16 - 1672280820*x**15 + 40171771630*x**14 -\n",
    "        756111184500*x**13 + 11310276995381*x**12 -\n",
    "        135585182899530*x**11 + 1307535010540395*x**10 -\n",
    "        10142299865511450*x**9 + 63030812099294896*x**8 -\n",
    "        311333643161390640*x**7 + 1206647803780373360*x**6 -\n",
    "        3599979517947607200*x**5 + 8037811822645051776*x**4 -\n",
    "        12870931245150988800*x**3 + 13803759753640704000*x**2 -\n",
    "        8752948036761600000*x + 2432902008176640000 )\n",
    "\n",
    "def wilk_factored(x):\n",
    "    x = float(x)\n",
    "    pass\n"
   ]
  }
 ],
 "metadata": {
  "kernelspec": {
   "display_name": "Python 3 (ipykernel)",
   "language": "python",
   "name": "python3"
  },
  "language_info": {
   "codemirror_mode": {
    "name": "ipython",
    "version": 3
   },
   "file_extension": ".py",
   "mimetype": "text/x-python",
   "name": "python",
   "nbconvert_exporter": "python",
   "pygments_lexer": "ipython3",
   "version": "3.12.6"
  }
 },
 "nbformat": 4,
 "nbformat_minor": 5
}
