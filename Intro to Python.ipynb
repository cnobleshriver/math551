{
 "cells": [
  {
   "cell_type": "markdown",
   "metadata": {},
   "source": [
    "# Introduction to Python for Scientific Computing\n",
    "\n",
    "This notebook will introduce some basic Python syntax and data types, with a particular emphasis on the NumPy and pyplot modules.\n",
    "\n",
    "We will show examples of:\n",
    "- Markdown for documenting our code\n",
    "- Basic Arithmetic Operations\n",
    "- Loops and logic\n",
    "- Formatted Printing\n",
    "- Defining functions\n",
    "- NumPy arrays\n",
    "- Plotting"
   ]
  },
  {
   "cell_type": "markdown",
   "metadata": {},
   "source": [
    "## Arithmetic operations\n",
    "\n",
    "Standard operations are implemented: `+`, `-`, `*`, `/`\n",
    "\n",
    "Modulus operation: `%`  \n",
    "Exponentiation: `**`  "
   ]
  },
  {
   "cell_type": "code",
   "execution_count": null,
   "metadata": {},
   "outputs": [],
   "source": [
    "print( 2 - 3**2)\n",
    "# print( type(2 - 3**2))\n",
    "\n",
    "print(4/2)\n",
    "# print(type(4/2))"
   ]
  },
  {
   "cell_type": "markdown",
   "metadata": {},
   "source": [
    "## Loops and lists\n",
    "\n",
    "We will show the construction of a simple list of squares in three different ways:\n",
    "- typing it out\n",
    "- building it in a `for` loop\n",
    "- using list comprehension"
   ]
  },
  {
   "cell_type": "code",
   "execution_count": null,
   "metadata": {},
   "outputs": [],
   "source": [
    "squares = [1, 4, 9, 16]\n",
    "print(squares)"
   ]
  },
  {
   "cell_type": "markdown",
   "metadata": {},
   "source": [
    "Using a loop, we can build the list.  \n",
    "`range(start, stop, step)`  \n",
    "allows us to loop from the start, up to, but not including stop, with a step (default of 1)"
   ]
  },
  {
   "cell_type": "code",
   "execution_count": null,
   "metadata": {},
   "outputs": [],
   "source": [
    "squares = []\n",
    "for i in range(1, 5):  \n",
    "    squares.append(i**2)\n",
    "print(squares)"
   ]
  },
  {
   "cell_type": "markdown",
   "metadata": {},
   "source": [
    "Using a list comprehension,  \n",
    "`[expression for variable in iterable]`  \n",
    "We put the emphasis on the list being created, in a compact way."
   ]
  },
  {
   "cell_type": "code",
   "execution_count": null,
   "metadata": {
    "scrolled": false
   },
   "outputs": [],
   "source": [
    "squares = [i**2 for i in range(1,5)]\n",
    "print(squares)"
   ]
  },
  {
   "cell_type": "markdown",
   "metadata": {},
   "source": [
    "A list is zero indexed and supports slicing"
   ]
  },
  {
   "cell_type": "code",
   "execution_count": null,
   "metadata": {
    "scrolled": true
   },
   "outputs": [],
   "source": [
    "# What will each of these give?\n",
    "# print(squares[2])\n",
    "# print(squares[4])\n",
    "# print(squares[2:4])"
   ]
  },
  {
   "cell_type": "markdown",
   "metadata": {},
   "source": [
    "A list is iterable, so we can loop directly over its elements"
   ]
  },
  {
   "cell_type": "code",
   "execution_count": null,
   "metadata": {
    "scrolled": true
   },
   "outputs": [],
   "source": [
    "for s in squares:\n",
    "    print(s**3)"
   ]
  },
  {
   "cell_type": "markdown",
   "metadata": {},
   "source": [
    "### While loops\n",
    "\n",
    "Another common construction we will use is a `while` loop:\n",
    "\n",
    "`while expression:\n",
    "    run \n",
    "    these \n",
    "    statements\n",
    "`\n",
    "It will continue running as long as `expression` evaluates to true or until a `break` statement is encounted.  For example, we saw `while (b-a)/2 > TOL:` for our bisection method.  \n",
    "\n",
    "Care is needed to make sure that we don't get stuck in an infinite loop."
   ]
  },
  {
   "cell_type": "markdown",
   "metadata": {},
   "source": [
    "### Example: approximating a sum, with formatted printing\n",
    "\n",
    "We take an example, summing a series, and printing out the variables using f-strings."
   ]
  },
  {
   "cell_type": "code",
   "execution_count": null,
   "metadata": {},
   "outputs": [],
   "source": [
    "N = 10\n",
    "\n",
    "x = 0.\n",
    "for i in range(1, N+1):\n",
    "    x += 1/ i**2\n",
    "print(f'After {N=} terms we have the partial sum {x=}')"
   ]
  },
  {
   "cell_type": "markdown",
   "metadata": {},
   "source": [
    "Let's format the partial sums in a nicer table:"
   ]
  },
  {
   "cell_type": "code",
   "execution_count": null,
   "metadata": {},
   "outputs": [],
   "source": [
    "N = 10\n",
    "x = 0.\n",
    "print(f'{\"n\":^5} | {\"sum\":^8}')\n",
    "print('-'*16)\n",
    "for i in range(1, N+1):\n",
    "    x += 1/ i**2\n",
    "    if i % (N//10) == 0:  \n",
    "        print(f'{i:5} | {x:8.6f}')\n",
    "        "
   ]
  },
  {
   "cell_type": "markdown",
   "metadata": {},
   "source": [
    "### Equals sign: assignment vs testing, and finite precision\n",
    "\n",
    "Single equals sign `=` is used for assignment and\n",
    "Double equals sign `==` is used for testing equality.  Take care with floats and equality!"
   ]
  },
  {
   "cell_type": "code",
   "execution_count": null,
   "metadata": {},
   "outputs": [],
   "source": [
    "# Objectivly true statement 1\n",
    "print( 1 + 1 == 2)"
   ]
  },
  {
   "cell_type": "code",
   "execution_count": null,
   "metadata": {},
   "outputs": [],
   "source": [
    "# Objectivly true statement 2\n",
    "print( 0.1 + 0.2 == 0.3)"
   ]
  },
  {
   "cell_type": "markdown",
   "metadata": {},
   "source": [
    "**What?!?**  We will explain why the behavior above happens in the following lectures.  In short, the finite precision representation used for floating point numbers cannot represent the values 0.1, 0.2, or 0.3 exactly, since they use binary.\n",
    "\n",
    "In practice, we should instead use `math.isclose()` or `numpy.isclose()`, though we will often want to think precisely about why we are asking if two floating point numbers are equal or close."
   ]
  },
  {
   "cell_type": "code",
   "execution_count": null,
   "metadata": {},
   "outputs": [],
   "source": [
    "import math\n",
    "math.isclose(0.1 + 0.2, 0.3)"
   ]
  },
  {
   "cell_type": "markdown",
   "metadata": {},
   "source": [
    "## Functions in Python\n",
    "\n",
    "We can make user-defined functions in Python with the syntax\n",
    "`def function(parameter1, parameter2, parameter3=default_value):\n",
    "    return None\n",
    "`\n",
    "\n",
    "For example, let's define our own factorial function (though there is one built-in)"
   ]
  },
  {
   "cell_type": "code",
   "execution_count": 1,
   "metadata": {},
   "outputs": [],
   "source": [
    "def factorial(n):\n",
    "    '''Takes a non-negative integer n and returns n!'''\n",
    "    fac = 1.\n",
    "    \n",
    "    # Fill in the function here\n",
    "    \n",
    "    return fac"
   ]
  },
  {
   "cell_type": "code",
   "execution_count": null,
   "metadata": {},
   "outputs": [],
   "source": [
    "#Let's test our code\n",
    "print(f'{factorial(0)=}')\n",
    "print(f'{factorial(1)=}')\n",
    "print(f'{factorial(5)=}')"
   ]
  },
  {
   "cell_type": "markdown",
   "metadata": {},
   "source": [
    "## NumPy Package\n",
    "\n",
    "NumPy is a powerful package for mathematics and data analysis\n",
    "* Efficient implementation in lower level languages\n",
    "    - Actively used in scientific computing and data analysis \n",
    "* Flexible syntax for array options\n",
    "    - Similar to Matlab for those familiar"
   ]
  },
  {
   "cell_type": "code",
   "execution_count": null,
   "metadata": {},
   "outputs": [],
   "source": [
    "import numpy as np   # np is a standard shortcut.\n",
    "import matplotlib.pyplot as plt # standard module for plots"
   ]
  },
  {
   "cell_type": "markdown",
   "metadata": {},
   "source": [
    "### Array type\n",
    "Arrays are the fundamental data type provided by numpy.\n",
    "- Meant for homogeneous types with efficient storage and operations.  \n",
    "- Much functionality is provided for linear algebra operations."
   ]
  },
  {
   "cell_type": "code",
   "execution_count": null,
   "metadata": {},
   "outputs": [],
   "source": [
    "#Start from a list\n",
    "l = [5,12,13]\n",
    "a = np.array(l)\n",
    "print(l)\n",
    "print(a)"
   ]
  },
  {
   "cell_type": "markdown",
   "metadata": {},
   "source": [
    "### Useful built-ins for common array types"
   ]
  },
  {
   "cell_type": "code",
   "execution_count": null,
   "metadata": {},
   "outputs": [],
   "source": [
    "a = np.zeros(5)\n",
    "print(a)\n",
    "b = np.ones(5)\n",
    "print(b)\n",
    "print(np.linalg.norm([3,4]))"
   ]
  },
  {
   "cell_type": "markdown",
   "metadata": {},
   "source": [
    "### numpy.linspace\n",
    "linspace(start, stop, num) creates an array from start to stop (inclusive) with num entries.  This is useful as the domain for a function we are plotting."
   ]
  },
  {
   "cell_type": "code",
   "execution_count": null,
   "metadata": {},
   "outputs": [],
   "source": [
    "c = np.linspace(1,5,17)\n",
    "print(c)"
   ]
  },
  {
   "cell_type": "markdown",
   "metadata": {},
   "source": [
    "### Elementwise operations"
   ]
  },
  {
   "cell_type": "code",
   "execution_count": null,
   "metadata": {},
   "outputs": [],
   "source": [
    "b = np.linspace(1,5,5)\n",
    "c = np.array([3, 1.2, 1.1, 3, 3])\n",
    "\n",
    "# addition and scalar multiplication\n",
    "print(b + 2*c)\n",
    "# elementwise operations:\n",
    "print(c**2)\n",
    "print(c * (b+c))\n",
    "# proper dot product\n",
    "print(b)\n",
    "print(c)\n",
    "print(np.dot(b,c))"
   ]
  },
  {
   "cell_type": "markdown",
   "metadata": {},
   "source": [
    "## Basic plotting"
   ]
  },
  {
   "cell_type": "code",
   "execution_count": null,
   "metadata": {},
   "outputs": [],
   "source": [
    "import numpy as np   \n",
    "import matplotlib.pyplot as plt \n",
    "\n",
    "x = np.linspace(0,np.pi,100)\n",
    "plt.plot(x,np.sin(x))\n",
    "plt.plot(x, x - x**3/6)\n",
    "plt.plot(x, x - x**3/6 + x**5/120)\n",
    "plt.legend(['$\\sin(x)$','2 Terms', '3 Terms'])"
   ]
  },
  {
   "cell_type": "code",
   "execution_count": null,
   "metadata": {},
   "outputs": [],
   "source": [
    "\n",
    "def taylor_sin(x, n):\n",
    "    '''computes the first n non-zero terms of the Taylor series approximation of sin at x'''\n",
    "    \n",
    "    y = 0.\n",
    "    \n",
    "    # Implement this\n",
    "    \n",
    "    return y"
   ]
  },
  {
   "cell_type": "code",
   "execution_count": null,
   "metadata": {},
   "outputs": [],
   "source": [
    "\n",
    "# x = np.linspace(0,np.pi,100)\n",
    "# plt.plot(x,np.sin(x))\n",
    "# plt.plot(x, taylor_sin(x,2))\n",
    "# plt.plot(x, taylor_sin(x,3))\n",
    "# plt.legend(['$\\sin(x)$','2 Terms', '3 Terms'])"
   ]
  },
  {
   "cell_type": "code",
   "execution_count": null,
   "metadata": {},
   "outputs": [],
   "source": []
  }
 ],
 "metadata": {
  "kernelspec": {
   "display_name": "Python 3 (ipykernel)",
   "language": "python",
   "name": "python3"
  },
  "language_info": {
   "codemirror_mode": {
    "name": "ipython",
    "version": 3
   },
   "file_extension": ".py",
   "mimetype": "text/x-python",
   "name": "python",
   "nbconvert_exporter": "python",
   "pygments_lexer": "ipython3",
   "version": "3.9.7"
  }
 },
 "nbformat": 4,
 "nbformat_minor": 4
}
